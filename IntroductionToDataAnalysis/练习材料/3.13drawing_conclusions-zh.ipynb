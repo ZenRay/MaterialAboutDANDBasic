{
 "cells": [
  {
   "cell_type": "markdown",
   "metadata": {},
   "source": [
    "# 得出结论\n",
    "使用下列空间来处理数据集`clean_08.csv` 和`clean_18.csv`中的以下问题"
   ]
  },
  {
   "cell_type": "code",
   "execution_count": null,
   "metadata": {},
   "outputs": [],
   "source": [
    "# load datasets\n",
    "\n",
    "df_08 =\n",
    "df_18 ="
   ]
  },
  {
   "cell_type": "markdown",
   "metadata": {},
   "source": [
    "### Q1: 是否有更多使用替代燃料来源的独特模式？ 具体多多少？\n",
    "\n",
    "### Q2: 车辆级别在燃油经济性方面有多少改进？\n",
    "### Q3: SmartWay 车辆的特点是什么？ 它们是否随着时间而改变？\n",
    "\n",
    "### Q4: 哪些功能与更好的燃油经济性有关？"
   ]
  }
 ],
 "metadata": {
  "kernelspec": {
   "display_name": "Python 3",
   "language": "python",
   "name": "python3"
  },
  "language_info": {
   "codemirror_mode": {
    "name": "ipython",
    "version": 3
   },
   "file_extension": ".py",
   "mimetype": "text/x-python",
   "name": "python",
   "nbconvert_exporter": "python",
   "pygments_lexer": "ipython3",
   "version": "3.6.3"
  }
 },
 "nbformat": 4,
 "nbformat_minor": 2
}
