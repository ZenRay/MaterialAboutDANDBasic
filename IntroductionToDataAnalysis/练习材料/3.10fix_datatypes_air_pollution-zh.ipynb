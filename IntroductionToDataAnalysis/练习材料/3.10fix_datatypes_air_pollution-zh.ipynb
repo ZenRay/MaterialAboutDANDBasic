{
 "cells": [
  {
   "cell_type": "markdown",
   "metadata": {},
   "source": [
    "# 修正 `air_pollution_score` 数据类型\n",
    "- 2008：将字符串转换成浮点\n",
    "- 2018：将整数转换成浮点"
   ]
  },
  {
   "cell_type": "code",
   "execution_count": null,
   "metadata": {},
   "outputs": [],
   "source": [
    "# 加载数据集\n",
    "df_08 = \n",
    "df_18 = "
   ]
  },
  {
   "cell_type": "code",
   "execution_count": null,
   "metadata": {},
   "outputs": [],
   "source": [
    "# 尝试使用 Pandas 的 to_numeric 或 astype 功能将\n",
    "# 2008 air_pollution_score 列转换成浮点——无法转换\n"
   ]
  },
  {
   "cell_type": "markdown",
   "metadata": {},
   "source": [
    "# 解决问题\n",
    "这个问题看起来不像数据类型转换那样简单。根据上述错误，第 582 行的值是 \"6/4\"。我们检验一下。"
   ]
  },
  {
   "cell_type": "code",
   "execution_count": null,
   "metadata": {},
   "outputs": [],
   "source": [
    "df_08.iloc[582]"
   ]
  },
  {
   "cell_type": "markdown",
   "metadata": {},
   "source": [
    "# 存在这个问题的不只是空气污染分数！\n",
    "mpg 列和温室气体分数也存在同样的问题。这可能是它们都被保存为字符串的原因。根据我在 PDF 文档中找到的 [这个链接](http://www.fueleconomy.gov/feg/findacarhelp.shtml#airPollutionScore)，\n",
    "\n",
    "> “如果车辆采用多种燃料提供动力，应该提供每个燃料类型的估值。”\n",
    "\n",
    "所以，采用混合动力的所有车辆，例如上面这辆车（采用乙醇和天然气），它们的字符串具有两个值，每种燃料为一个值。这有点复杂，我将给你展示如何用 2008 数据集实现这个效果，之后你用 2018 数据集尝试一下。"
   ]
  },
  {
   "cell_type": "code",
   "execution_count": null,
   "metadata": {},
   "outputs": [],
   "source": [
    "# 首先，获取 2008 年的所有混合动力\n",
    "hb_08 = df_08[df_08['fuel'].str.contains('/')]\n",
    "hb_08"
   ]
  },
  {
   "cell_type": "markdown",
   "metadata": {},
   "source": [
    "好像这个数据集只有一个混合动力车，而 2018 年有很多。但是别担心，现在进行的步骤对它同样适用！"
   ]
  },
  {
   "cell_type": "code",
   "execution_count": null,
   "metadata": {},
   "outputs": [],
   "source": [
    "# 2018年的混合动力\n",
    "hb_18 = df_18[df_18['fuel'].str.contains('/')]\n",
    "hb_18"
   ]
  },
  {
   "cell_type": "markdown",
   "metadata": {},
   "source": [
    "提取每个混合动力行，把它们分成两个新行，一行是第一种燃料类型的值（\"/\" 前面的值），另一行是第二种燃料类型的值（\"/\" 后面的值）。现在用两个数据框把它们分开。"
   ]
  },
  {
   "cell_type": "code",
   "execution_count": null,
   "metadata": {},
   "outputs": [],
   "source": [
    "# 创建 2008 混合动力数据框的两个副本\n",
    "df1 = hb_08.copy()  # 每个混合动力车第一种燃料类型的数据\n",
    "df2 = hb_08.copy()  # 每个混合动力车第二种燃料类型的数据\n",
    "\n",
    "# 每个数据应该如下所示\n",
    "df1"
   ]
  },
  {
   "cell_type": "markdown",
   "metadata": {},
   "source": [
    "接下来，我们将使用 Pandas 的 apply 函数。参见 [这里](https://pandas.pydata.org/pandas-docs/stable/generated/pandas.DataFrame.apply.html) 的文档。"
   ]
  },
  {
   "cell_type": "code",
   "execution_count": null,
   "metadata": {},
   "outputs": [],
   "source": [
    "# 将被 \"/\" 分割的列\n",
    "split_columns = ['fuel', 'air_pollution_score', 'city_mpg', 'hwy_mpg', 'cmb_mpg', 'greenhouse_gas_score']\n",
    "\n",
    "# 对每个数据框副本的每个列应用分割功能\n",
    "for c in split_columns:\n",
    "    df1[c] = df1[c].apply(lambda x: x.split(\"/\")[0])\n",
    "    df2[c] = df2[c].apply(lambda x: x.split(\"/\")[1])"
   ]
  },
  {
   "cell_type": "code",
   "execution_count": null,
   "metadata": {},
   "outputs": [],
   "source": [
    "# 这个数据框包含混合动力车第一种燃料类型的信息\n",
    "# 也就是 \"/\" 前面的值\n",
    "df1"
   ]
  },
  {
   "cell_type": "code",
   "execution_count": null,
   "metadata": {},
   "outputs": [],
   "source": [
    "# 这个数据框包含混合动力车第二种燃料类型的信息\n",
    "# 也就是 \"/\" 后面的值\n",
    "df2"
   ]
  },
  {
   "cell_type": "code",
   "execution_count": null,
   "metadata": {},
   "outputs": [],
   "source": [
    "# 将数据框组合，添加到原始数据框中\n",
    "new_rows = df1.append(df2)\n",
    "\n",
    "# 现在每辆车的每种燃料类型都有单独的行\n",
    "new_rows"
   ]
  },
  {
   "cell_type": "code",
   "execution_count": null,
   "metadata": {},
   "outputs": [],
   "source": [
    "# 丢弃原始混合动力行\n",
    "df_08.drop(hb_08.index, inplace=True)\n",
    "\n",
    "# 添加新分割的行\n",
    "df_08 = df_08.append(new_rows, ignore_index=True)"
   ]
  },
  {
   "cell_type": "code",
   "execution_count": null,
   "metadata": {},
   "outputs": [],
   "source": [
    "# 检查含有 \"/\" 的所有原始混合动力行是否都已删除\n",
    "df_08[df_08['fuel'].str.contains('/')]"
   ]
  },
  {
   "cell_type": "code",
   "execution_count": null,
   "metadata": {},
   "outputs": [],
   "source": [
    "df_08.shape"
   ]
  },
  {
   "cell_type": "markdown",
   "metadata": {},
   "source": [
    "# 对 2018 数据集重复相同过程"
   ]
  },
  {
   "cell_type": "code",
   "execution_count": null,
   "metadata": {},
   "outputs": [],
   "source": [
    "# 创建 2018 混合动力数据框 hb_18 的两个副本\n",
    "df1 = \n",
    "df2 = "
   ]
  },
  {
   "cell_type": "markdown",
   "metadata": {},
   "source": [
    "### 分割 `fuel`、`city_mpg`、`hwy_mpg`、`cmb_mpg` 的值\n",
    "不需要分割 `air_pollution_score` 或 `greenhouse_gas_score` 的值，因为这些列在 2018 数据集中已经是整数。"
   ]
  },
  {
   "cell_type": "code",
   "execution_count": null,
   "metadata": {},
   "outputs": [],
   "source": [
    "# 待分割列的列表\n",
    "split_columns = \n",
    "\n",
    "# 对每个数据框副本的每个列应用分割功能\n",
    "for c in split_columns:\n",
    "    df1[c] = \n",
    "    df2[c] = "
   ]
  },
  {
   "cell_type": "code",
   "execution_count": null,
   "metadata": {},
   "outputs": [],
   "source": [
    "# 添加这两个数据框\n",
    "new_rows = \n",
    "\n",
    "# 从原始 2018 数据框中丢弃每个混合动力行\n",
    "# 对 hb_18 的索引进行 Pandas 的丢弃功能，实现上述步骤\n",
    "df_18.drop(hb_18.index, inplace=True)\n",
    "\n",
    "# 将 new_rows 添加到 df_18\n",
    "df_18 = "
   ]
  },
  {
   "cell_type": "code",
   "execution_count": null,
   "metadata": {},
   "outputs": [],
   "source": [
    "# 检查是否已删除\n",
    "df_18[df_18['fuel'].str.contains('/')]"
   ]
  },
  {
   "cell_type": "code",
   "execution_count": null,
   "metadata": {},
   "outputs": [],
   "source": [
    "df_18.shape"
   ]
  },
  {
   "cell_type": "markdown",
   "metadata": {},
   "source": [
    "### 现在可以继续进行 `air_pollution_score` 所需的更改，如下所示：\n",
    "- 2008：将字符串转换成浮点\n",
    "- 2018：将整数转换成浮点"
   ]
  },
  {
   "cell_type": "code",
   "execution_count": null,
   "metadata": {},
   "outputs": [],
   "source": [
    "# 对于 2008 空气污染列，将字符串转换成浮点\n"
   ]
  },
  {
   "cell_type": "code",
   "execution_count": null,
   "metadata": {},
   "outputs": [],
   "source": [
    "# 对于 2018 空气污染列，将整数转换成浮点\n"
   ]
  },
  {
   "cell_type": "code",
   "execution_count": null,
   "metadata": {},
   "outputs": [],
   "source": [
    "df_08.to_csv('data_08.csv', index=False)\n",
    "df_18.to_csv('data_18.csv', index=False)"
   ]
  }
 ],
 "metadata": {
  "kernelspec": {
   "display_name": "Python 3",
   "language": "python",
   "name": "python3"
  },
  "language_info": {
   "codemirror_mode": {
    "name": "ipython",
    "version": 3
   },
   "file_extension": ".py",
   "mimetype": "text/x-python",
   "name": "python",
   "nbconvert_exporter": "python",
   "pygments_lexer": "ipython3",
   "version": "3.6.3"
  }
 },
 "nbformat": 4,
 "nbformat_minor": 2
}
