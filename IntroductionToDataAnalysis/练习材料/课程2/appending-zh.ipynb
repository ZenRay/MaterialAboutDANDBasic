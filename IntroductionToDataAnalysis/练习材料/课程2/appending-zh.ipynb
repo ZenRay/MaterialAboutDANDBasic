{
 "cells": [
  {
   "cell_type": "markdown",
   "metadata": {},
   "source": [
    "# 附加数据\n",
    "首先，导入所需数据包并加载 `winequality-red.csv`  和 `winequality-white.csv`。"
   ]
  },
  {
   "cell_type": "code",
   "execution_count": null,
   "metadata": {},
   "outputs": [],
   "source": [
    "# 导入 numpy 和 pandas\n",
    "\n",
    "# 加载红葡萄酒和白葡萄酒数据集\n",
    "red_df = \n",
    "white_df = "
   ]
  },
  {
   "cell_type": "markdown",
   "metadata": {},
   "source": [
    "## 创建颜色列\n",
    "创建两个数组，长度与重复 “红” 或 “白” 值的红白葡萄酒数据框的行数相同。NumPy 提供了非常简单的功能。这是介绍 [NumPy 重复](https://docs.scipy.org/doc/numpy/reference/generated/numpy.repeat.html) 功能的文档。阅读之后请自己尝试一下。"
   ]
  },
  {
   "cell_type": "code",
   "execution_count": null,
   "metadata": {},
   "outputs": [],
   "source": [
    "# 为红葡萄酒数据框创建颜色数组\n",
    "color_red = \n",
    "\n",
    "# 为白葡萄酒数据框创建颜色数组\n",
    "color_white = "
   ]
  },
  {
   "cell_type": "markdown",
   "metadata": {},
   "source": [
    "将名为 ‘颜色’ 的新列设置到适当数组，将数组添加到红葡萄酒和白葡萄酒数据框中。下面的框是在红葡萄酒数据框中添加数组。"
   ]
  },
  {
   "cell_type": "code",
   "execution_count": null,
   "metadata": {},
   "outputs": [],
   "source": [
    "red_df['color'] = color_red\n",
    "red_df.head()"
   ]
  },
  {
   "cell_type": "markdown",
   "metadata": {},
   "source": [
    "白葡萄酒数据框的步骤相同，使用 `head()` 确认更改。"
   ]
  },
  {
   "cell_type": "markdown",
   "metadata": {},
   "source": [
    "## 用附加功能组合数据框\n",
    "查看  [Pandas 附加]( https://pandas.pydata.org/pandas-docs/stable/generated/pandas.DataFrame.append.html) 功能文档，查看组合数据框的方法。（附加题：为什么不使用 [合并](https://pandas.pydata.org/pandas-docs/stable/generated/pandas.DataFrame.merge.html) 法组合数据框？）如果还不明白，我将在稍后介绍。务必将你的工作保存在这个 notebook 内，因为稍后还要回来。"
   ]
  },
  {
   "cell_type": "code",
   "execution_count": null,
   "metadata": {},
   "outputs": [],
   "source": [
    "# 附加数据框\n",
    "wine_df = \n",
    "\n",
    "# 查看数据框，检查是否成功\n",
    "wine_df.head()"
   ]
  },
  {
   "cell_type": "markdown",
   "metadata": {},
   "source": [
    "## 保存已组合的数据集\n",
    "将新组合的数据框保存为 `winequality_edited.csv`。务必设置 `index=False`，以避免保存未命名列！"
   ]
  }
 ],
 "metadata": {
  "kernelspec": {
   "display_name": "Python 3",
   "language": "python",
   "name": "python3"
  },
  "language_info": {
   "codemirror_mode": {
    "name": "ipython",
    "version": 3
   },
   "file_extension": ".py",
   "mimetype": "text/x-python",
   "name": "python",
   "nbconvert_exporter": "python",
   "pygments_lexer": "ipython3",
   "version": "3.6.3"
  }
 },
 "nbformat": 4,
 "nbformat_minor": 2
}
